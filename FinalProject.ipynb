{
  "cells": [
    {
      "cell_type": "markdown",
      "metadata": {
        "id": "view-in-github",
        "colab_type": "text"
      },
      "source": [
        "<a href=\"https://colab.research.google.com/github/Danial-sb/FakeNewsDetection/blob/main/FinalProject.ipynb\" target=\"_parent\"><img src=\"https://colab.research.google.com/assets/colab-badge.svg\" alt=\"Open In Colab\"/></a>"
      ]
    },
    {
      "cell_type": "code",
      "execution_count": null,
      "metadata": {
        "colab": {
          "base_uri": "https://localhost:8080/"
        },
        "id": "8blNyZZmgQZN",
        "outputId": "5880f9e9-8da2-41de-9f64-9f411e4b9acb"
      },
      "outputs": [
        {
          "output_type": "stream",
          "name": "stdout",
          "text": [
            "2.0.1+cu118\n"
          ]
        }
      ],
      "source": [
        "import torch\n",
        "print(torch.__version__)"
      ]
    },
    {
      "cell_type": "code",
      "execution_count": null,
      "metadata": {
        "colab": {
          "base_uri": "https://localhost:8080/"
        },
        "id": "wmDucclKhayi",
        "outputId": "86a0d4a2-f74a-4011-d4cc-c798a1341bdd"
      },
      "outputs": [
        {
          "output_type": "stream",
          "name": "stdout",
          "text": [
            "Looking in indexes: https://pypi.org/simple, https://us-python.pkg.dev/colab-wheels/public/simple/\n",
            "Looking in links: https://data.pyg.org/whl/torch-2.0.0+cu118.html\n",
            "Requirement already satisfied: torch-cluster in /usr/local/lib/python3.10/dist-packages (1.6.1+pt20cu118)\n",
            "Requirement already satisfied: scipy in /usr/local/lib/python3.10/dist-packages (from torch-cluster) (1.10.1)\n",
            "Requirement already satisfied: numpy<1.27.0,>=1.19.5 in /usr/local/lib/python3.10/dist-packages (from scipy->torch-cluster) (1.22.4)\n",
            "  Installing build dependencies ... \u001b[?25l\u001b[?25hdone\n",
            "  Getting requirements to build wheel ... \u001b[?25l\u001b[?25hdone\n",
            "  Preparing metadata (pyproject.toml) ... \u001b[?25l\u001b[?25hdone\n"
          ]
        }
      ],
      "source": [
        "!pip install -q torch-scatter -f https://data.pyg.org/whl/torch-2.0.0+cu118.html\n",
        "!pip install -q torch-sparse -f https://data.pyg.org/whl/torch-2.0.0+cu118.html\n",
        "!pip install torch-cluster -f https://data.pyg.org/whl/torch-2.0.0+cu118.html\n",
        "!pip install -q git+https://github.com/pyg-team/pytorch_geometric.git"
      ]
    },
    {
      "cell_type": "code",
      "execution_count": null,
      "metadata": {
        "id": "5v_BIgLuHFV6"
      },
      "outputs": [],
      "source": [
        "from torch_geometric.datasets import UPFD\n",
        "import pandas as pd\n",
        "import networkx as nx\n",
        "from torch_geometric.loader import DataLoader\n",
        "from torch.nn import Linear\n",
        "import torch.nn.functional as F\n",
        "from torch_geometric.nn import global_mean_pool\n",
        "from torch_geometric.nn import global_max_pool\n",
        "from torch_geometric.nn import global_add_pool\n",
        "from torch_geometric.nn import Node2Vec\n",
        "from torch_geometric.nn.conv.gcn_conv import GCNConv\n",
        "from torch_geometric.nn.conv import SAGEConv\n",
        "from torch_geometric.nn.conv import GATConv\n",
        "from torch_geometric.nn.models import GIN\n",
        "from torch.nn import BatchNorm1d\n",
        "import argparse\n",
        "from sklearn.metrics import accuracy_score, f1_score\n",
        "import copy\n",
        "import matplotlib.pyplot as plt"
      ]
    },
    {
      "cell_type": "code",
      "execution_count": null,
      "metadata": {
        "id": "8uIHciVK_-u_"
      },
      "outputs": [],
      "source": [
        "parser = argparse.ArgumentParser()\n",
        "parser.add_argument('--model', type=str, choices=['gcn', 'mlp', 'sage', 'gat', 'gin'], default='gcn', help='which model to use (default: gcn)')\n",
        "parser.add_argument('--batch_size', type=int, default=64, help='batch size')\n",
        "parser.add_argument('--seed', type=int, default=1234, help='seed for reproducibility')\n",
        "parser.add_argument('--hidden_channels', type=int, default=128, help='hidden channles of the layers')\n",
        "parser.add_argument('--feature', type=str, default='content', help='feature type: [profile, spacy, bert, content]')\n",
        "parser.add_argument('--lr', type=float, default=0.01, help='learning rate')\n",
        "parser.add_argument('--weight_decay', type=float, default=0.001, help='weight decay')\n",
        "parser.add_argument('--min_delta', type=float, default=0.001, help='min_delta in early stopping')\n",
        "parser.add_argument('--patience', type=int, default=10, help='patience in early stopping')\n",
        "parser.add_argument('--dropout_ratio', type=float, default=0.2, help='dropout ratio')\n",
        "parser.add_argument('--epochs', type=int, default=50, help='maximum number of epochs')\n",
        "args, unknown = parser.parse_known_args()"
      ]
    },
    {
      "cell_type": "code",
      "execution_count": null,
      "metadata": {
        "colab": {
          "base_uri": "https://localhost:8080/"
        },
        "id": "v9dV9TfnjO95",
        "outputId": "62a5fbc1-7dad-4a92-ab59-aef0a49e95a5"
      },
      "outputs": [
        {
          "output_type": "stream",
          "name": "stdout",
          "text": [
            "Train Samples:  1092\n",
            "Validation Samples:  546\n",
            "Test Samples:  3826\n"
          ]
        }
      ],
      "source": [
        "train_data = UPFD(root=\".\", name=\"gossipcop\", feature=args.feature, split=\"train\")\n",
        "val_data = UPFD(root=\".\", name=\"gossipcop\", feature=args.feature, split=\"val\")\n",
        "test_data = UPFD(root=\".\", name=\"gossipcop\", feature=args.feature, split=\"test\")\n",
        "print(\"Train Samples: \", len(train_data))\n",
        "print(\"Validation Samples: \", len(val_data))\n",
        "print(\"Test Samples: \", len(test_data))"
      ]
    },
    {
      "cell_type": "code",
      "execution_count": null,
      "metadata": {
        "colab": {
          "base_uri": "https://localhost:8080/"
        },
        "id": "TRmYGQMCmNSM",
        "outputId": "b8f6532f-6d63-4b5d-a497-4bef7bdf6f69"
      },
      "outputs": [
        {
          "output_type": "stream",
          "name": "stdout",
          "text": [
            "UPFD(1092, name=gossipcop, feature=content)\n",
            "Number of the graphs in the training set: 1092\n",
            "Number of features: 310\n",
            "Number of classes: 2\n"
          ]
        }
      ],
      "source": [
        "print(train_data)\n",
        "print(f\"Number of the graphs in the training set: {len(train_data)}\")\n",
        "print(f\"Number of features: {train_data.num_features}\")\n",
        "print(f\"Number of classes: {train_data.num_classes}\")"
      ]
    },
    {
      "cell_type": "code",
      "execution_count": null,
      "metadata": {
        "colab": {
          "base_uri": "https://localhost:8080/",
          "height": 448
        },
        "id": "Pu7l8FdBYohz",
        "outputId": "a2f89a42-f13f-4fd0-95f6-11262660a731"
      },
      "outputs": [
        {
          "data": {
            "text/plain": [
              "<Axes: >"
            ]
          },
          "execution_count": 8,
          "metadata": {},
          "output_type": "execute_result"
        },
        {
          "data": {
            "image/png": "[encoded data removed]",
            "text/plain": [
              "<Figure size 640x480 with 1 Axes>"
            ]
          },
          "metadata": {},
          "output_type": "display_data"
        }
      ],
      "source": [
        "labels = [data.y.item() for i, data in enumerate(train_data)]\n",
        "df = pd.DataFrame(labels, columns=[\"Labels\"])\n",
        "df[\"Labels\"].hist()"
      ]
    },
    {
      "cell_type": "code",
      "execution_count": null,
      "metadata": {
        "id": "3OZdWbBLnK4E"
      },
      "outputs": [],
      "source": [
        "#looking at the details of the first graph\n",
        "def sample_graph(sample):\n",
        "  data_sample = train_data[sample]\n",
        "\n",
        "  print(data_sample)\n",
        "  print(f\"Number of nodes in the first graph: {data_sample.num_nodes}\")\n",
        "  print(f\"Number of features in the first graph: {data_sample.num_features}\")\n",
        "  print(f\"Number of edges in the first graph: {data_sample.num_edges}\")\n",
        "  print(f'Average node degree: {2*data_sample.num_edges / data_sample.num_nodes:.2f}')\n",
        "  G = nx.Graph()\n",
        "  edge_list = data_sample.edge_index.t().tolist()\n",
        "  G.add_edges_from(edge_list)\n",
        "  nx.draw(G, with_labels=False, node_size = 60, node_color = '#1f78b4', edge_color = '#969696', width = 1.5)"
      ]
    },
    {
      "cell_type": "code",
      "execution_count": null,
      "metadata": {
        "colab": {
          "base_uri": "https://localhost:8080/",
          "height": 607
        },
        "id": "TZZEK_Cnon9q",
        "outputId": "c82ba91e-655c-45b7-d6fc-57276e81d3ac"
      },
      "outputs": [
        {
          "name": "stdout",
          "output_type": "stream",
          "text": [
            "Data(x=[125, 768], edge_index=[2, 124], y=[1])\n",
            "Number of nodes in the first graph: 125\n",
            "Number of features in the first graph: 768\n",
            "Number of edges in the first graph: 124\n",
            "Average node degree: 1.98\n"
          ]
        },
        {
          "data": {
            "image/png": "[encoded data removed]",
            "text/plain": [
              "<Figure size 640x480 with 1 Axes>"
            ]
          },
          "metadata": {},
          "output_type": "display_data"
        }
      ],
      "source": [
        "sample_graph(1)"
      ]
    },
    {
      "cell_type": "code",
      "execution_count": null,
      "metadata": {
        "colab": {
          "base_uri": "https://localhost:8080/"
        },
        "id": "Ay__wEbHsZQZ",
        "outputId": "644015a8-f384-4906-9e7d-d54440dc90b3"
      },
      "outputs": [
        {
          "output_type": "stream",
          "name": "stdout",
          "text": [
            "Step 1:\n",
            "=======\n",
            "Number of graphs in the current batch: 64\n",
            "DataBatch(x=[3621, 310], edge_index=[2, 3557], y=[64], batch=[3621], ptr=[65])\n",
            "\n",
            "Step 2:\n",
            "=======\n",
            "Number of graphs in the current batch: 64\n",
            "DataBatch(x=[3669, 310], edge_index=[2, 3605], y=[64], batch=[3669], ptr=[65])\n",
            "\n",
            "Step 3:\n",
            "=======\n",
            "Number of graphs in the current batch: 64\n",
            "DataBatch(x=[3920, 310], edge_index=[2, 3856], y=[64], batch=[3920], ptr=[65])\n",
            "\n",
            "Step 4:\n",
            "=======\n",
            "Number of graphs in the current batch: 64\n",
            "DataBatch(x=[3929, 310], edge_index=[2, 3865], y=[64], batch=[3929], ptr=[65])\n",
            "\n",
            "Step 5:\n",
            "=======\n",
            "Number of graphs in the current batch: 64\n",
            "DataBatch(x=[4605, 310], edge_index=[2, 4541], y=[64], batch=[4605], ptr=[65])\n",
            "\n",
            "Step 6:\n",
            "=======\n",
            "Number of graphs in the current batch: 64\n",
            "DataBatch(x=[4408, 310], edge_index=[2, 4344], y=[64], batch=[4408], ptr=[65])\n",
            "\n",
            "Step 7:\n",
            "=======\n",
            "Number of graphs in the current batch: 64\n",
            "DataBatch(x=[3391, 310], edge_index=[2, 3327], y=[64], batch=[3391], ptr=[65])\n",
            "\n",
            "Step 8:\n",
            "=======\n",
            "Number of graphs in the current batch: 64\n",
            "DataBatch(x=[4025, 310], edge_index=[2, 3961], y=[64], batch=[4025], ptr=[65])\n",
            "\n",
            "Step 9:\n",
            "=======\n",
            "Number of graphs in the current batch: 64\n",
            "DataBatch(x=[3927, 310], edge_index=[2, 3863], y=[64], batch=[3927], ptr=[65])\n",
            "\n",
            "Step 10:\n",
            "=======\n",
            "Number of graphs in the current batch: 64\n",
            "DataBatch(x=[3232, 310], edge_index=[2, 3168], y=[64], batch=[3232], ptr=[65])\n",
            "\n",
            "Step 11:\n",
            "=======\n",
            "Number of graphs in the current batch: 64\n",
            "DataBatch(x=[3282, 310], edge_index=[2, 3218], y=[64], batch=[3282], ptr=[65])\n",
            "\n",
            "Step 12:\n",
            "=======\n",
            "Number of graphs in the current batch: 64\n",
            "DataBatch(x=[3190, 310], edge_index=[2, 3126], y=[64], batch=[3190], ptr=[65])\n",
            "\n",
            "Step 13:\n",
            "=======\n",
            "Number of graphs in the current batch: 64\n",
            "DataBatch(x=[3404, 310], edge_index=[2, 3340], y=[64], batch=[3404], ptr=[65])\n",
            "\n",
            "Step 14:\n",
            "=======\n",
            "Number of graphs in the current batch: 64\n",
            "DataBatch(x=[3164, 310], edge_index=[2, 3100], y=[64], batch=[3164], ptr=[65])\n",
            "\n",
            "Step 15:\n",
            "=======\n",
            "Number of graphs in the current batch: 64\n",
            "DataBatch(x=[4360, 310], edge_index=[2, 4296], y=[64], batch=[4360], ptr=[65])\n",
            "\n",
            "Step 16:\n",
            "=======\n",
            "Number of graphs in the current batch: 64\n",
            "DataBatch(x=[3497, 310], edge_index=[2, 3433], y=[64], batch=[3497], ptr=[65])\n",
            "\n",
            "Step 17:\n",
            "=======\n",
            "Number of graphs in the current batch: 64\n",
            "DataBatch(x=[3456, 310], edge_index=[2, 3392], y=[64], batch=[3456], ptr=[65])\n",
            "\n",
            "Step 18:\n",
            "=======\n",
            "Number of graphs in the current batch: 4\n",
            "DataBatch(x=[402, 310], edge_index=[2, 398], y=[4], batch=[402], ptr=[5])\n",
            "\n"
          ]
        }
      ],
      "source": [
        "train_loader = DataLoader(train_data, batch_size=args.batch_size, shuffle=True)\n",
        "val_loader = DataLoader(val_data, batch_size=args.batch_size, shuffle=False)\n",
        "test_loader = DataLoader(test_data, batch_size=args.batch_size, shuffle=False)\n",
        "# batch maps each node to its respective graph in the batch\n",
        "for step, data in enumerate(train_loader):\n",
        "    print(f'Step {step + 1}:')\n",
        "    print('=======')\n",
        "    print(f'Number of graphs in the current batch: {data.num_graphs}')\n",
        "    print(data)\n",
        "    print()"
      ]
    },
    {
      "cell_type": "code",
      "execution_count": null,
      "metadata": {
        "colab": {
          "base_uri": "https://localhost:8080/"
        },
        "id": "XEyHCEv2xdTK",
        "outputId": "a300238b-02d4-474b-a29f-187dbd77acbd"
      },
      "outputs": [
        {
          "output_type": "execute_result",
          "data": {
            "text/plain": [
              "MLP(\n",
              "  (lin1): Linear(in_features=310, out_features=128, bias=True)\n",
              "  (lin2): Linear(in_features=128, out_features=128, bias=True)\n",
              "  (lin3): Linear(in_features=128, out_features=128, bias=True)\n",
              "  (linnews): Linear(in_features=310, out_features=128, bias=True)\n",
              "  (lin0): Linear(in_features=128, out_features=128, bias=True)\n",
              "  (lin): Linear(in_features=256, out_features=1, bias=True)\n",
              ")"
            ]
          },
          "metadata": {},
          "execution_count": 7
        }
      ],
      "source": [
        "class MLP(torch.nn.Module):\n",
        "  def __init__(self, input_channels, hidden_channels, output_channels):\n",
        "    super(MLP, self).__init__()\n",
        "\n",
        "    self.input_channels = input_channels\n",
        "    self.hidden_channels = hidden_channels\n",
        "    self.output_channels = output_channels\n",
        "\n",
        "    #transformation on the graph\n",
        "    self.lin1 = Linear(input_channels, hidden_channels)\n",
        "    self.lin2 = Linear(hidden_channels, hidden_channels)\n",
        "    self.lin3 = Linear(hidden_channels, hidden_channels)\n",
        "\n",
        "    self.linnews = Linear(input_channels, hidden_channels)\n",
        "\n",
        "    self.lin0 = Linear(hidden_channels, hidden_channels)\n",
        "    self.lin = Linear(2*hidden_channels, output_channels) #classifier\n",
        "\n",
        "    self.reset_parameters()\n",
        "    \n",
        "  def reset_parameters(self):\n",
        "    self.lin1.reset_parameters()\n",
        "    self.lin2.reset_parameters()\n",
        "    self.lin3.reset_parameters()\n",
        "    self.linnews.reset_parameters()\n",
        "    self.lin0.reset_parameters()\n",
        "    self.lin.reset_parameters()\n",
        "    \n",
        "\n",
        "  def forward(self, x, batch):\n",
        "    h = self.lin1(x).relu()\n",
        "    #h = F.dropout(h, p=args.dropout_ratio, training=self.training)\n",
        "    h = self.lin2(h).relu()\n",
        "    #h = F.dropout(h, p=args.dropout_ratio, training=self.training)\n",
        "    h = self.lin3(h).relu()\n",
        "\n",
        "    h = global_max_pool(h, batch)\n",
        "\n",
        "    h = self.lin0(h).relu()\n",
        "\n",
        "    root = (batch[1:] - batch[:-1]).nonzero(as_tuple=False).view(-1)\n",
        "    root = torch.cat([root.new_zeros(1), root + 1], dim=0)\n",
        "    # root is e.g. [   0,   14,   94,  171,  230,  302, ... ]\n",
        "    #we are getting the features of the root node\n",
        "    news = x[root]\n",
        "    news = self.linnews(news).relu()\n",
        "    out = self.lin(torch.cat([h, news], dim=-1))\n",
        "\n",
        "    return torch.sigmoid(out)\n",
        "\n",
        "MLP(train_data.num_features, args.hidden_channels, 1)"
      ]
    },
    {
      "cell_type": "code",
      "execution_count": null,
      "metadata": {
        "colab": {
          "base_uri": "https://localhost:8080/"
        },
        "id": "N1mDojH3Ag9G",
        "outputId": "f916dd8d-08fa-4a87-a628-200ded4376eb"
      },
      "outputs": [
        {
          "output_type": "execute_result",
          "data": {
            "text/plain": [
              "GCN(\n",
              "  (convs): ModuleList(\n",
              "    (0-2): 3 x GCNConv(310, 128)\n",
              "  )\n",
              "  (linnews): Linear(in_features=310, out_features=128, bias=True)\n",
              "  (lin2): Linear(in_features=128, out_features=128, bias=True)\n",
              "  (lin3): Linear(in_features=256, out_features=1, bias=True)\n",
              ")"
            ]
          },
          "metadata": {},
          "execution_count": 8
        }
      ],
      "source": [
        "class GCN(torch.nn.Module):\n",
        "  def __init__(self, input_channels, hidden_channels, output_channels, num_gnn_layers):\n",
        "    super(GCN, self).__init__()\n",
        "\n",
        "    self.input_channels = input_channels\n",
        "    self.hidden_channels = hidden_channels\n",
        "    self.output_channels = output_channels\n",
        "    self.num_layers = num_gnn_layers\n",
        "\n",
        "    self.convs = torch.nn.ModuleList()\n",
        "    #self.bns = torch.nn.ModuleList()\n",
        "\n",
        "    for layer in range(num_gnn_layers):\n",
        "      self.convs.append(GCNConv(input_channels, hidden_channels))\n",
        "      #self.bns.append(BatchNorm1d(hidden_channels))\n",
        "\n",
        "    #self.lin1 = Linear(hidden_channels, hidden_channels) #after convolutions\n",
        "\n",
        "    self.linnews = Linear(input_channels, hidden_channels)\n",
        "\n",
        "    self.lin2 = Linear(hidden_channels, hidden_channels) #after max pooling\n",
        "    self.lin3 = Linear(2*hidden_channels, output_channels)\n",
        "\n",
        "    self.reset_parameters()\n",
        "\n",
        "  def reset_parameters(self):\n",
        "    for conv in self.convs:\n",
        "        conv.reset_parameters()\n",
        "    #for bn in self.bns:\n",
        "        #bn.reset_parameters()\n",
        "    #self.lin1.reset_parameters()\n",
        "    self.linnews.reset_parameters()\n",
        "    self.lin2.reset_parameters()\n",
        "    self.lin3.reset_parameters()\n",
        "\n",
        "  def forward(self, x, adj, batch):\n",
        "    for idx in range(len(self.convs)):\n",
        "      h = self.convs[idx](x, adj).relu()\n",
        "      #h = self.bns[idx](h)\n",
        "      #h = F.relu(h)\n",
        "    \n",
        "    #h = self.lin1(h).relu()\n",
        "    #h= F.relu(h)\n",
        "\n",
        "    h = global_max_pool(h, batch)\n",
        "    h = self.lin2(h).relu()\n",
        "\n",
        "    root = (batch[1:] - batch[:-1]).nonzero(as_tuple=False).view(-1)\n",
        "    root = torch.cat([root.new_zeros(1), root + 1], dim=0)\n",
        "    news = x[root]\n",
        "    news = self.linnews(news).relu()\n",
        "\n",
        "    out = self.lin3(torch.cat([h, news], dim=-1))\n",
        "\n",
        "    return torch.sigmoid(out)\n",
        "\n",
        "GCN(train_data.num_features, args.hidden_channels, 1, 3)"
      ]
    },
    {
      "cell_type": "code",
      "execution_count": null,
      "metadata": {
        "colab": {
          "base_uri": "https://localhost:8080/"
        },
        "id": "_IgC8P3TIHkQ",
        "outputId": "d3792213-5799-4e8f-84eb-aaaaeb4b2495"
      },
      "outputs": [
        {
          "output_type": "execute_result",
          "data": {
            "text/plain": [
              "GraphSage(\n",
              "  (sage1): SAGEConv(310, 128, aggr=mean)\n",
              "  (sage2): SAGEConv(128, 128, aggr=mean)\n",
              "  (sage3): SAGEConv(128, 128, aggr=mean)\n",
              "  (linnews): Linear(in_features=310, out_features=128, bias=True)\n",
              "  (lin2): Linear(in_features=128, out_features=128, bias=True)\n",
              "  (lin3): Linear(in_features=256, out_features=1, bias=True)\n",
              ")"
            ]
          },
          "metadata": {},
          "execution_count": 9
        }
      ],
      "source": [
        "class GraphSage(torch.nn.Module):\n",
        "  def __init__(self, input_channels, hidden_channels, output_channels):\n",
        "    super(GraphSage, self).__init__()\n",
        "    \n",
        "    self.input_channels = input_channels\n",
        "    self.hidden_channels = hidden_channels\n",
        "    self.output_channels = output_channels\n",
        "\n",
        "    self.sage1 = SAGEConv(input_channels, hidden_channels, normalize=True)\n",
        "    #self.bn1 = BatchNorm1d(hidden_channels)\n",
        "    self.sage2 = SAGEConv(hidden_channels, hidden_channels, normalize = True)\n",
        "    self.sage3 = SAGEConv(hidden_channels, hidden_channels, normalize = True)\n",
        "    #self.bn2 = BatchNorm1d(hidden_channels)\n",
        "\n",
        "    #self.lin1 = Linear(hidden_channels, hidden_channels) #after convolutions\n",
        "\n",
        "    self.linnews = Linear(input_channels, hidden_channels)\n",
        "\n",
        "    self.lin2 = Linear(hidden_channels, hidden_channels) #after max pooling\n",
        "    self.lin3 = Linear(2*hidden_channels, output_channels)\n",
        "\n",
        "    self.reset_parameters()\n",
        "    \n",
        "  def reset_parameters(self):\n",
        "    self.sage1.reset_parameters()\n",
        "    self.sage2.reset_parameters()\n",
        "    self.sage3.reset_parameters()\n",
        "    #self.bn1.reset_parameters()\n",
        "    #self.lin1.reset_parameters()\n",
        "    self.linnews.reset_parameters()\n",
        "    self.lin2.reset_parameters()\n",
        "    self.lin3.reset_parameters()\n",
        "\n",
        "  def forward(self, x, adj, batch):\n",
        "    h = self.sage1(x, adj).relu()\n",
        "    h = self.sage2(h, adj).relu()\n",
        "    h = self.sage3(h, adj).relu()\n",
        "    #h = F.relu(self.bn1(h))\n",
        "    #h = self.sage2(h, adj)\n",
        "    #h = F.relu(self.bn2(h))\n",
        "    \n",
        "    #h = self.lin1(h)\n",
        "    #h= F.relu(h)\n",
        "\n",
        "    h = global_max_pool(h, batch)\n",
        "    h = self.lin2(h).relu()\n",
        "\n",
        "    root = (batch[1:] - batch[:-1]).nonzero(as_tuple=False).view(-1)\n",
        "    root = torch.cat([root.new_zeros(1), root + 1], dim=0)\n",
        "    news = x[root]\n",
        "    news = self.linnews(news).relu()\n",
        "\n",
        "    out = self.lin3(torch.cat([h, news], dim=-1))\n",
        "\n",
        "    return torch.sigmoid(out)\n",
        "\n",
        "GraphSage(train_data.num_features, args.hidden_channels, 1)"
      ]
    },
    {
      "cell_type": "code",
      "execution_count": null,
      "metadata": {
        "colab": {
          "base_uri": "https://localhost:8080/"
        },
        "id": "LeuPsfz64iep",
        "outputId": "85723e6f-0f8b-4c8a-fcca-33822a3733a4"
      },
      "outputs": [
        {
          "output_type": "execute_result",
          "data": {
            "text/plain": [
              "GAT(\n",
              "  (Gatconv1): GATConv(310, 128, heads=1)\n",
              "  (Gatconv2): GATConv(128, 128, heads=1)\n",
              "  (Gatconv3): GATConv(128, 128, heads=1)\n",
              "  (linnews): Linear(in_features=310, out_features=128, bias=True)\n",
              "  (lin0): Linear(in_features=128, out_features=128, bias=True)\n",
              "  (lin1): Linear(in_features=256, out_features=1, bias=True)\n",
              ")"
            ]
          },
          "metadata": {},
          "execution_count": 10
        }
      ],
      "source": [
        "class GAT(torch.nn.Module):\n",
        "  def __init__(self, input_channels, hidden_channels, output_channels):\n",
        "    super(GAT, self).__init__()\n",
        "    \n",
        "    self.input_channels = input_channels\n",
        "    self.hidden_channels = hidden_channels\n",
        "    self.output_channels = output_channels\n",
        "\n",
        "    self.Gatconv1 = GATConv(input_channels, hidden_channels)\n",
        "    self.Gatconv2 = GATConv(hidden_channels, hidden_channels)\n",
        "    self.Gatconv3 = GATConv(hidden_channels, hidden_channels)\n",
        "\n",
        "    self.linnews = Linear(input_channels, hidden_channels)\n",
        "    self.lin0 = Linear(hidden_channels, hidden_channels)\n",
        "    self.lin1 = Linear(2*hidden_channels, output_channels)\n",
        "\n",
        "    self.reset_parameters()\n",
        "\n",
        "  def reset_parameters(self):\n",
        "    self.Gatconv1.reset_parameters()\n",
        "    self.Gatconv2.reset_parameters()\n",
        "    self.Gatconv3.reset_parameters()\n",
        "    self.linnews.reset_parameters()\n",
        "    self.lin0.reset_parameters()\n",
        "    self.lin1.reset_parameters()\n",
        "\n",
        "  def forward(self, x, adj, batch):\n",
        "    h = self.Gatconv1(x, adj).relu()\n",
        "    h = self.Gatconv2(h, adj).relu()\n",
        "    h = self.Gatconv3(h, adj).relu()\n",
        "\n",
        "    h = global_max_pool(h, batch)\n",
        "    h = self.lin0(h).relu()\n",
        "\n",
        "    root = (batch[1:] - batch[:-1]).nonzero(as_tuple=False).view(-1)\n",
        "    root = torch.cat([root.new_zeros(1), root + 1], dim=0)\n",
        "    news = x[root]\n",
        "    news = self.linnews(news).relu()\n",
        "\n",
        "    out = self.lin1(torch.cat([h, news], dim=-1))\n",
        "\n",
        "    return torch.sigmoid(out)\n",
        "\n",
        "GAT(train_data.num_features, args.hidden_channels, 1)"
      ]
    },
    {
      "cell_type": "code",
      "execution_count": null,
      "metadata": {
        "colab": {
          "base_uri": "https://localhost:8080/"
        },
        "id": "XHi7crl12aMV",
        "outputId": "ee545498-52ea-4d94-df2e-88592375d269"
      },
      "outputs": [
        {
          "output_type": "execute_result",
          "data": {
            "text/plain": [
              "Graph_Isomorphism_Network(\n",
              "  (gnn1): GIN(310, 128, num_layers=2)\n",
              "  (linnews): Linear(in_features=310, out_features=128, bias=True)\n",
              "  (lin2): Linear(in_features=128, out_features=128, bias=True)\n",
              "  (lin3): Linear(in_features=256, out_features=1, bias=True)\n",
              ")"
            ]
          },
          "metadata": {},
          "execution_count": 11
        }
      ],
      "source": [
        "class Graph_Isomorphism_Network(torch.nn.Module):\n",
        "    def __init__(self, input_channels, hidden_channels, output_channels, num_layers):\n",
        "      super(Graph_Isomorphism_Network, self).__init__()\n",
        "\n",
        "      self.input_channels = input_channels\n",
        "      self.hidden_channels = hidden_channels\n",
        "      self.output_channels = output_channels\n",
        "      self.num_layers = num_layers\n",
        "\n",
        "      self.gnn1 = GIN(input_channels, hidden_channels, num_layers)\n",
        "      #self.bn1= BatchNorm1d(hidden_channels)\n",
        "      #self.gnn2 = GIN(hidden_channels, hidden_channels, num_layers)\n",
        "      #self.bn2= BatchNorm1d(hidden_channels)\n",
        "      #self.gnn3 = GIN(hidden_channels, hidden_channels, num_layers)\n",
        "\n",
        "      #self.lin1 = Linear(hidden_channels, hidden_channels)\n",
        "\n",
        "      self.linnews = Linear(input_channels, hidden_channels)\n",
        "\n",
        "      self.lin2 = Linear(hidden_channels, hidden_channels) #after max pooling\n",
        "      self.lin3 = Linear(2*hidden_channels, output_channels)\n",
        "\n",
        "      self.reset_parameters()\n",
        "      \n",
        "    def reset_parameters(self):\n",
        "      self.gnn1.reset_parameters()\n",
        "      #self.bn1.reset_parameters()\n",
        "      #self.gnn2.reset_parameters()\n",
        "      #self.bn2.reset_parameters()\n",
        "      #self.gnn3.reset_parameters()\n",
        "      #self.lin1.reset_parameters()\n",
        "      self.linnews.reset_parameters()\n",
        "      self.lin2.reset_parameters()\n",
        "      self.lin3.reset_parameters()\n",
        "\n",
        "    def forward(self, x, adj, batch):\n",
        "      h = self.gnn1(x, adj).relu()\n",
        "      #h = F.relu(self.bn1(h))\n",
        "      #h = self.gnn2(h, adj).relu()\n",
        "      #h = F.relu(self.bn2(h))\n",
        "      #h = self.gnn3(h, adj).relu()\n",
        "          \n",
        "      #h = self.lin1(h)\n",
        "      #h= F.relu(h)\n",
        "\n",
        "      h = global_max_pool(h, batch)\n",
        "      #h = F.dropout(h, p=0.5, training=self.training)\n",
        "      h = self.lin2(h).relu()\n",
        "\n",
        "      root = (batch[1:] - batch[:-1]).nonzero(as_tuple=False).view(-1)\n",
        "      root = torch.cat([root.new_zeros(1), root + 1], dim=0)\n",
        "      news = x[root]\n",
        "      news = self.linnews(news).relu()\n",
        "\n",
        "      out = self.lin3(torch.cat([h, news], dim=-1))\n",
        "\n",
        "      return torch.sigmoid(out)\n",
        "\n",
        "Graph_Isomorphism_Network(train_data.num_features, args.hidden_channels, 1, 2)"
      ]
    },
    {
      "cell_type": "code",
      "execution_count": null,
      "metadata": {
        "id": "DUg42BEyeT7v"
      },
      "outputs": [],
      "source": [
        "def count_parameters(model):\n",
        "    return sum(p.numel() for p in model.parameters() if p.requires_grad)"
      ]
    },
    {
      "cell_type": "code",
      "execution_count": null,
      "metadata": {
        "id": "D6tbgsHEQ9s4"
      },
      "outputs": [],
      "source": [
        "device = torch.device('cuda' if torch.cuda.is_available() else 'cpu')\n",
        "\n",
        "if args.model == 'gcn':\n",
        "    model = GCN(train_data.num_features, args.hidden_channels, 1, 1).to(device)\n",
        "    model.reset_parameters()\n",
        "elif args.model == 'sage':\n",
        "    model = GraphSage(train_data.num_features, args.hidden_channels, 1).to(device)\n",
        "    model.reset_parameters()\n",
        "elif args.model == 'gat':\n",
        "    model = GAT(train_data.num_features, args.hidden_channels, 1).to(device)\n",
        "    model.reset_parameters()\n",
        "elif args.model == 'gin':\n",
        "    model = Graph_Isomorphism_Network(train_data.num_features, args.hidden_channels, 1, 3).to(device)\n",
        "    model.reset_parameters()\n",
        "else:\n",
        "    model = MLP(train_data.num_features, args.hidden_channels, 1).to(device)\n",
        "    model.reset_parameters()\n",
        "    \n",
        "optimizer = torch.optim.Adam(model.parameters(), lr = args.lr, weight_decay = args.weight_decay)\n",
        "loss_fnc = torch.nn.BCELoss()\n",
        "\n",
        "torch.manual_seed(args.seed)\n",
        "\n",
        "def train():\n",
        "    model.train()\n",
        "    num_correct = num_examples = total_loss = 0\n",
        "    for data in train_loader:\n",
        "        data = data.to(device)\n",
        "        optimizer.zero_grad()\n",
        "        if args.model in ['gcn', 'sage', 'gat', 'gin']:\n",
        "          out = model(data.x, data.edge_index, data.batch)\n",
        "        else:\n",
        "          out = model(data.x, data.batch)\n",
        "        loss = loss_fnc(out.view(-1), data.y.float())\n",
        "        loss.backward()\n",
        "        optimizer.step()\n",
        "        total_loss += loss.item() * data.num_graphs\n",
        "        preds = torch.round(out.view(-1)).long()\n",
        "        num_correct += (preds == data.y.view(-1).long()).sum().item()\n",
        "        num_examples += data.num_graphs\n",
        "\n",
        "    accuracy = num_correct / num_examples\n",
        "    return total_loss / len(train_loader.dataset), accuracy\n",
        "\n",
        "@torch.no_grad()\n",
        "def compute_test(loader):\n",
        "    model.eval()\n",
        "    num_correct = num_examples = total_loss = 0\n",
        "    all_preds = []\n",
        "    all_targets = []\n",
        "    for data in loader:\n",
        "        data = data.to(device)\n",
        "        if args.model in ['gcn', 'sage', 'gat', 'gin']:\n",
        "          out = model(data.x, data.edge_index, data.batch)\n",
        "        else:\n",
        "          out = model(data.x, data.batch)  \n",
        "        loss = loss_fnc(out.view(-1), data.y.float())\n",
        "        total_loss += loss.item() * data.num_graphs\n",
        "        preds = torch.round(out.view(-1)).long()\n",
        "        all_preds.append(preds.cpu())\n",
        "        all_targets.append(data.y.view(-1).cpu())\n",
        "        num_correct += (preds == data.y.view(-1).long()).sum().item()\n",
        "        num_examples += data.num_graphs\n",
        "    \n",
        "    all_preds = torch.cat(all_preds, dim=0)\n",
        "    all_targets = torch.cat(all_targets, dim=0)\n",
        "    # Calculate Metrics\n",
        "    accuracy = num_correct / num_examples\n",
        "    f1 = f1_score(all_targets, all_preds, average='macro')\n",
        "\n",
        "    return total_loss / len(loader.dataset), accuracy, f1\n"
      ]
    },
    {
      "cell_type": "code",
      "execution_count": null,
      "metadata": {
        "colab": {
          "base_uri": "https://localhost:8080/"
        },
        "id": "aMS7FsadR0EI",
        "outputId": "c95ba086-b432-467d-91e9-95b51d843072"
      },
      "outputs": [
        {
          "output_type": "stream",
          "name": "stdout",
          "text": [
            "Run 1/5\n",
            "Epoch: 01 |  TrainLoss: 0.84 | TrainAcc: 0.49 ValLoss: 0.70 | ValAcc: 0.49 | ValF1: 0.33\n",
            "Epoch: 02 |  TrainLoss: 0.70 | TrainAcc: 0.51 ValLoss: 0.69 | ValAcc: 0.49 | ValF1: 0.33\n",
            "Epoch: 03 |  TrainLoss: 0.69 | TrainAcc: 0.51 ValLoss: 0.68 | ValAcc: 0.49 | ValF1: 0.33\n",
            "Epoch: 04 |  TrainLoss: 0.72 | TrainAcc: 0.50 ValLoss: 0.68 | ValAcc: 0.72 | ValF1: 0.71\n",
            "Epoch: 05 |  TrainLoss: 0.69 | TrainAcc: 0.56 ValLoss: 0.67 | ValAcc: 0.51 | ValF1: 0.38\n",
            "Epoch: 06 |  TrainLoss: 0.68 | TrainAcc: 0.53 ValLoss: 0.66 | ValAcc: 0.92 | ValF1: 0.92\n",
            "Epoch: 07 |  TrainLoss: 0.68 | TrainAcc: 0.68 ValLoss: 0.66 | ValAcc: 0.51 | ValF1: 0.34\n",
            "Epoch: 08 |  TrainLoss: 0.65 | TrainAcc: 0.66 ValLoss: 0.72 | ValAcc: 0.51 | ValF1: 0.34\n",
            "Epoch: 09 |  TrainLoss: 0.64 | TrainAcc: 0.64 ValLoss: 0.59 | ValAcc: 0.73 | ValF1: 0.72\n",
            "Epoch: 10 |  TrainLoss: 0.57 | TrainAcc: 0.74 ValLoss: 0.63 | ValAcc: 0.51 | ValF1: 0.34\n",
            "Epoch: 11 |  TrainLoss: 0.54 | TrainAcc: 0.74 ValLoss: 0.46 | ValAcc: 0.93 | ValF1: 0.93\n",
            "Epoch: 12 |  TrainLoss: 0.44 | TrainAcc: 0.86 ValLoss: 0.67 | ValAcc: 0.51 | ValF1: 0.34\n",
            "Epoch: 13 |  TrainLoss: 0.45 | TrainAcc: 0.81 ValLoss: 0.49 | ValAcc: 0.70 | ValF1: 0.67\n",
            "Epoch: 14 |  TrainLoss: 0.41 | TrainAcc: 0.83 ValLoss: 0.39 | ValAcc: 0.81 | ValF1: 0.80\n",
            "Epoch: 15 |  TrainLoss: 0.33 | TrainAcc: 0.90 ValLoss: 0.49 | ValAcc: 0.71 | ValF1: 0.68\n",
            "Epoch: 16 |  TrainLoss: 0.35 | TrainAcc: 0.87 ValLoss: 0.29 | ValAcc: 0.94 | ValF1: 0.94\n",
            "Epoch: 17 |  TrainLoss: 0.29 | TrainAcc: 0.91 ValLoss: 0.32 | ValAcc: 0.87 | ValF1: 0.87\n",
            "Epoch: 18 |  TrainLoss: 0.28 | TrainAcc: 0.91 ValLoss: 0.68 | ValAcc: 0.58 | ValF1: 0.47\n",
            "Epoch: 19 |  TrainLoss: 0.46 | TrainAcc: 0.75 ValLoss: 0.43 | ValAcc: 0.76 | ValF1: 0.75\n",
            "Epoch: 20 |  TrainLoss: 0.30 | TrainAcc: 0.89 ValLoss: 0.24 | ValAcc: 0.95 | ValF1: 0.95\n",
            "Epoch: 21 |  TrainLoss: 0.25 | TrainAcc: 0.91 ValLoss: 0.47 | ValAcc: 0.74 | ValF1: 0.72\n",
            "Epoch: 22 |  TrainLoss: 0.31 | TrainAcc: 0.89 ValLoss: 0.36 | ValAcc: 0.81 | ValF1: 0.80\n",
            "Epoch: 23 |  TrainLoss: 0.26 | TrainAcc: 0.90 ValLoss: 0.26 | ValAcc: 0.91 | ValF1: 0.91\n",
            "Epoch: 24 |  TrainLoss: 0.27 | TrainAcc: 0.89 ValLoss: 0.23 | ValAcc: 0.93 | ValF1: 0.93\n",
            "Epoch: 25 |  TrainLoss: 0.25 | TrainAcc: 0.90 ValLoss: 0.30 | ValAcc: 0.86 | ValF1: 0.86\n",
            "Epoch: 26 |  TrainLoss: 0.29 | TrainAcc: 0.87 ValLoss: 0.21 | ValAcc: 0.95 | ValF1: 0.95\n",
            "Epoch: 27 |  TrainLoss: 0.23 | TrainAcc: 0.92 ValLoss: 0.48 | ValAcc: 0.74 | ValF1: 0.72\n",
            "Epoch: 28 |  TrainLoss: 0.28 | TrainAcc: 0.88 ValLoss: 0.37 | ValAcc: 0.81 | ValF1: 0.80\n",
            "Epoch: 29 |  TrainLoss: 0.23 | TrainAcc: 0.92 ValLoss: 0.21 | ValAcc: 0.94 | ValF1: 0.94\n",
            "Epoch: 30 |  TrainLoss: 0.22 | TrainAcc: 0.92 ValLoss: 0.28 | ValAcc: 0.88 | ValF1: 0.88\n",
            "Epoch: 31 |  TrainLoss: 0.21 | TrainAcc: 0.93 ValLoss: 0.21 | ValAcc: 0.93 | ValF1: 0.93\n",
            "Epoch: 32 |  TrainLoss: 0.20 | TrainAcc: 0.93 ValLoss: 0.22 | ValAcc: 0.93 | ValF1: 0.93\n",
            "Epoch: 33 |  TrainLoss: 0.20 | TrainAcc: 0.93 ValLoss: 0.20 | ValAcc: 0.95 | ValF1: 0.94\n",
            "Epoch: 34 |  TrainLoss: 0.19 | TrainAcc: 0.94 ValLoss: 0.20 | ValAcc: 0.94 | ValF1: 0.94\n",
            "Epoch: 35 |  TrainLoss: 0.25 | TrainAcc: 0.90 ValLoss: 0.67 | ValAcc: 0.64 | ValF1: 0.58\n",
            "Epoch: 36 |  TrainLoss: 0.25 | TrainAcc: 0.91 ValLoss: 0.20 | ValAcc: 0.94 | ValF1: 0.94\n",
            "Validation performance did not improve by at least 0.001 for 10 epochs. Stopping training...\n",
            "Best validation accuracy: 0.95\n",
            "========================================================================\n",
            "\n",
            "Test Accuracy: 0.94, Test F1 Score: 0.94, Model: gcn\n",
            "Run 2/5\n",
            "Epoch: 01 |  TrainLoss: 0.73 | TrainAcc: 0.50 ValLoss: 0.69 | ValAcc: 0.49 | ValF1: 0.33\n",
            "Epoch: 02 |  TrainLoss: 0.72 | TrainAcc: 0.50 ValLoss: 0.75 | ValAcc: 0.51 | ValF1: 0.34\n",
            "Epoch: 03 |  TrainLoss: 0.71 | TrainAcc: 0.51 ValLoss: 0.69 | ValAcc: 0.51 | ValF1: 0.34\n",
            "Epoch: 04 |  TrainLoss: 0.69 | TrainAcc: 0.50 ValLoss: 0.69 | ValAcc: 0.49 | ValF1: 0.33\n",
            "Epoch: 05 |  TrainLoss: 0.70 | TrainAcc: 0.53 ValLoss: 0.69 | ValAcc: 0.49 | ValF1: 0.33\n",
            "Epoch: 06 |  TrainLoss: 0.69 | TrainAcc: 0.56 ValLoss: 0.69 | ValAcc: 0.49 | ValF1: 0.33\n",
            "Epoch: 07 |  TrainLoss: 0.69 | TrainAcc: 0.53 ValLoss: 0.68 | ValAcc: 0.51 | ValF1: 0.34\n",
            "Epoch: 08 |  TrainLoss: 0.69 | TrainAcc: 0.54 ValLoss: 0.67 | ValAcc: 0.59 | ValF1: 0.50\n",
            "Epoch: 09 |  TrainLoss: 0.67 | TrainAcc: 0.65 ValLoss: 0.96 | ValAcc: 0.51 | ValF1: 0.34\n",
            "Epoch: 10 |  TrainLoss: 0.71 | TrainAcc: 0.55 ValLoss: 0.71 | ValAcc: 0.51 | ValF1: 0.34\n",
            "Epoch: 11 |  TrainLoss: 0.68 | TrainAcc: 0.65 ValLoss: 0.64 | ValAcc: 0.51 | ValF1: 0.34\n",
            "Epoch: 12 |  TrainLoss: 0.63 | TrainAcc: 0.69 ValLoss: 0.75 | ValAcc: 0.49 | ValF1: 0.34\n",
            "Epoch: 13 |  TrainLoss: 0.65 | TrainAcc: 0.62 ValLoss: 0.59 | ValAcc: 0.66 | ValF1: 0.62\n",
            "Epoch: 14 |  TrainLoss: 0.57 | TrainAcc: 0.75 ValLoss: 0.61 | ValAcc: 0.59 | ValF1: 0.52\n",
            "Epoch: 15 |  TrainLoss: 0.54 | TrainAcc: 0.75 ValLoss: 0.49 | ValAcc: 0.84 | ValF1: 0.83\n",
            "Epoch: 16 |  TrainLoss: 0.50 | TrainAcc: 0.77 ValLoss: 0.47 | ValAcc: 0.79 | ValF1: 0.78\n",
            "Epoch: 17 |  TrainLoss: 0.44 | TrainAcc: 0.86 ValLoss: 0.41 | ValAcc: 0.89 | ValF1: 0.89\n",
            "Epoch: 18 |  TrainLoss: 0.39 | TrainAcc: 0.89 ValLoss: 0.72 | ValAcc: 0.60 | ValF1: 0.54\n",
            "Epoch: 19 |  TrainLoss: 0.42 | TrainAcc: 0.82 ValLoss: 0.56 | ValAcc: 0.59 | ValF1: 0.49\n",
            "Epoch: 20 |  TrainLoss: 0.45 | TrainAcc: 0.77 ValLoss: 0.38 | ValAcc: 0.84 | ValF1: 0.84\n",
            "Epoch: 21 |  TrainLoss: 0.38 | TrainAcc: 0.84 ValLoss: 0.32 | ValAcc: 0.91 | ValF1: 0.91\n",
            "Epoch: 22 |  TrainLoss: 0.31 | TrainAcc: 0.89 ValLoss: 0.32 | ValAcc: 0.90 | ValF1: 0.90\n",
            "Epoch: 23 |  TrainLoss: 0.30 | TrainAcc: 0.90 ValLoss: 0.58 | ValAcc: 0.69 | ValF1: 0.66\n",
            "Epoch: 24 |  TrainLoss: 0.38 | TrainAcc: 0.83 ValLoss: 0.31 | ValAcc: 0.90 | ValF1: 0.90\n",
            "Epoch: 25 |  TrainLoss: 0.31 | TrainAcc: 0.88 ValLoss: 0.28 | ValAcc: 0.92 | ValF1: 0.92\n",
            "Epoch: 26 |  TrainLoss: 0.29 | TrainAcc: 0.89 ValLoss: 0.25 | ValAcc: 0.94 | ValF1: 0.94\n",
            "Epoch: 27 |  TrainLoss: 0.26 | TrainAcc: 0.92 ValLoss: 0.25 | ValAcc: 0.93 | ValF1: 0.93\n",
            "Epoch: 28 |  TrainLoss: 0.25 | TrainAcc: 0.91 ValLoss: 0.40 | ValAcc: 0.77 | ValF1: 0.76\n",
            "Epoch: 29 |  TrainLoss: 0.31 | TrainAcc: 0.87 ValLoss: 0.30 | ValAcc: 0.86 | ValF1: 0.86\n",
            "Epoch: 30 |  TrainLoss: 0.27 | TrainAcc: 0.91 ValLoss: 0.23 | ValAcc: 0.94 | ValF1: 0.94\n",
            "Epoch: 31 |  TrainLoss: 0.23 | TrainAcc: 0.92 ValLoss: 0.31 | ValAcc: 0.88 | ValF1: 0.87\n",
            "Epoch: 32 |  TrainLoss: 0.27 | TrainAcc: 0.89 ValLoss: 0.27 | ValAcc: 0.90 | ValF1: 0.90\n",
            "Epoch: 33 |  TrainLoss: 0.29 | TrainAcc: 0.88 ValLoss: 0.29 | ValAcc: 0.89 | ValF1: 0.89\n",
            "Epoch: 34 |  TrainLoss: 0.26 | TrainAcc: 0.89 ValLoss: 0.22 | ValAcc: 0.93 | ValF1: 0.93\n",
            "Epoch: 35 |  TrainLoss: 0.21 | TrainAcc: 0.93 ValLoss: 0.29 | ValAcc: 0.88 | ValF1: 0.88\n",
            "Epoch: 36 |  TrainLoss: 0.21 | TrainAcc: 0.93 ValLoss: 0.21 | ValAcc: 0.93 | ValF1: 0.93\n",
            "Validation performance did not improve by at least 0.001 for 10 epochs. Stopping training...\n",
            "Best validation accuracy: 0.94\n",
            "========================================================================\n",
            "\n",
            "Test Accuracy: 0.92, Test F1 Score: 0.92, Model: gcn\n",
            "Run 3/5\n",
            "Epoch: 01 |  TrainLoss: 0.72 | TrainAcc: 0.49 ValLoss: 0.69 | ValAcc: 0.51 | ValF1: 0.34\n",
            "Epoch: 02 |  TrainLoss: 0.69 | TrainAcc: 0.51 ValLoss: 0.69 | ValAcc: 0.51 | ValF1: 0.34\n",
            "Epoch: 03 |  TrainLoss: 0.70 | TrainAcc: 0.47 ValLoss: 0.69 | ValAcc: 0.49 | ValF1: 0.33\n",
            "Epoch: 04 |  TrainLoss: 0.69 | TrainAcc: 0.54 ValLoss: 0.75 | ValAcc: 0.49 | ValF1: 0.33\n",
            "Epoch: 05 |  TrainLoss: 0.70 | TrainAcc: 0.53 ValLoss: 0.68 | ValAcc: 0.51 | ValF1: 0.34\n",
            "Epoch: 06 |  TrainLoss: 0.67 | TrainAcc: 0.64 ValLoss: 0.66 | ValAcc: 0.58 | ValF1: 0.51\n",
            "Epoch: 07 |  TrainLoss: 0.64 | TrainAcc: 0.68 ValLoss: 0.73 | ValAcc: 0.49 | ValF1: 0.34\n",
            "Epoch: 08 |  TrainLoss: 0.62 | TrainAcc: 0.60 ValLoss: 0.79 | ValAcc: 0.49 | ValF1: 0.35\n",
            "Epoch: 09 |  TrainLoss: 0.60 | TrainAcc: 0.66 ValLoss: 0.50 | ValAcc: 0.92 | ValF1: 0.92\n",
            "Epoch: 10 |  TrainLoss: 0.48 | TrainAcc: 0.87 ValLoss: 0.80 | ValAcc: 0.51 | ValF1: 0.34\n",
            "Epoch: 11 |  TrainLoss: 0.53 | TrainAcc: 0.71 ValLoss: 0.53 | ValAcc: 0.62 | ValF1: 0.54\n",
            "Epoch: 12 |  TrainLoss: 0.58 | TrainAcc: 0.67 ValLoss: 0.38 | ValAcc: 0.91 | ValF1: 0.91\n",
            "Epoch: 13 |  TrainLoss: 0.39 | TrainAcc: 0.84 ValLoss: 0.34 | ValAcc: 0.93 | ValF1: 0.93\n",
            "Epoch: 14 |  TrainLoss: 0.34 | TrainAcc: 0.89 ValLoss: 0.32 | ValAcc: 0.90 | ValF1: 0.90\n",
            "Epoch: 15 |  TrainLoss: 0.31 | TrainAcc: 0.88 ValLoss: 0.47 | ValAcc: 0.72 | ValF1: 0.69\n",
            "Epoch: 16 |  TrainLoss: 0.34 | TrainAcc: 0.86 ValLoss: 0.30 | ValAcc: 0.90 | ValF1: 0.90\n",
            "Epoch: 17 |  TrainLoss: 0.27 | TrainAcc: 0.91 ValLoss: 0.41 | ValAcc: 0.77 | ValF1: 0.76\n",
            "Epoch: 18 |  TrainLoss: 0.29 | TrainAcc: 0.89 ValLoss: 0.26 | ValAcc: 0.93 | ValF1: 0.93\n",
            "Epoch: 19 |  TrainLoss: 0.30 | TrainAcc: 0.87 ValLoss: 0.24 | ValAcc: 0.94 | ValF1: 0.94\n",
            "Epoch: 20 |  TrainLoss: 0.24 | TrainAcc: 0.92 ValLoss: 0.32 | ValAcc: 0.84 | ValF1: 0.84\n",
            "Epoch: 21 |  TrainLoss: 0.27 | TrainAcc: 0.89 ValLoss: 0.27 | ValAcc: 0.90 | ValF1: 0.90\n",
            "Epoch: 22 |  TrainLoss: 0.26 | TrainAcc: 0.91 ValLoss: 0.51 | ValAcc: 0.73 | ValF1: 0.72\n",
            "Epoch: 23 |  TrainLoss: 0.26 | TrainAcc: 0.89 ValLoss: 0.35 | ValAcc: 0.83 | ValF1: 0.82\n",
            "Epoch: 24 |  TrainLoss: 0.28 | TrainAcc: 0.88 ValLoss: 0.24 | ValAcc: 0.92 | ValF1: 0.92\n",
            "Epoch: 25 |  TrainLoss: 0.22 | TrainAcc: 0.93 ValLoss: 0.43 | ValAcc: 0.78 | ValF1: 0.77\n",
            "Epoch: 26 |  TrainLoss: 0.22 | TrainAcc: 0.92 ValLoss: 0.30 | ValAcc: 0.88 | ValF1: 0.88\n",
            "Epoch: 27 |  TrainLoss: 0.21 | TrainAcc: 0.93 ValLoss: 0.20 | ValAcc: 0.94 | ValF1: 0.94\n",
            "Epoch: 28 |  TrainLoss: 0.21 | TrainAcc: 0.93 ValLoss: 0.87 | ValAcc: 0.65 | ValF1: 0.61\n",
            "Epoch: 29 |  TrainLoss: 0.33 | TrainAcc: 0.86 ValLoss: 0.39 | ValAcc: 0.79 | ValF1: 0.79\n",
            "Epoch: 30 |  TrainLoss: 0.21 | TrainAcc: 0.93 ValLoss: 0.19 | ValAcc: 0.95 | ValF1: 0.95\n",
            "Epoch: 31 |  TrainLoss: 0.19 | TrainAcc: 0.94 ValLoss: 0.54 | ValAcc: 0.72 | ValF1: 0.69\n",
            "Epoch: 32 |  TrainLoss: 0.22 | TrainAcc: 0.91 ValLoss: 0.19 | ValAcc: 0.95 | ValF1: 0.95\n",
            "Epoch: 33 |  TrainLoss: 0.21 | TrainAcc: 0.92 ValLoss: 0.21 | ValAcc: 0.93 | ValF1: 0.93\n",
            "Epoch: 34 |  TrainLoss: 0.25 | TrainAcc: 0.90 ValLoss: 0.23 | ValAcc: 0.92 | ValF1: 0.92\n",
            "Epoch: 35 |  TrainLoss: 0.20 | TrainAcc: 0.93 ValLoss: 0.21 | ValAcc: 0.93 | ValF1: 0.93\n",
            "Epoch: 36 |  TrainLoss: 0.25 | TrainAcc: 0.90 ValLoss: 0.25 | ValAcc: 0.92 | ValF1: 0.91\n",
            "Epoch: 37 |  TrainLoss: 0.19 | TrainAcc: 0.94 ValLoss: 0.22 | ValAcc: 0.92 | ValF1: 0.92\n",
            "Epoch: 38 |  TrainLoss: 0.21 | TrainAcc: 0.91 ValLoss: 0.22 | ValAcc: 0.92 | ValF1: 0.92\n",
            "Epoch: 39 |  TrainLoss: 0.23 | TrainAcc: 0.92 ValLoss: 0.34 | ValAcc: 0.84 | ValF1: 0.84\n",
            "Epoch: 40 |  TrainLoss: 0.19 | TrainAcc: 0.93 ValLoss: 0.26 | ValAcc: 0.90 | ValF1: 0.90\n",
            "Validation performance did not improve by at least 0.001 for 10 epochs. Stopping training...\n",
            "Best validation accuracy: 0.95\n",
            "========================================================================\n",
            "\n",
            "Test Accuracy: 0.94, Test F1 Score: 0.94, Model: gcn\n",
            "Run 4/5\n",
            "Epoch: 01 |  TrainLoss: 0.78 | TrainAcc: 0.50 ValLoss: 0.69 | ValAcc: 0.51 | ValF1: 0.38\n",
            "Epoch: 02 |  TrainLoss: 0.70 | TrainAcc: 0.53 ValLoss: 0.69 | ValAcc: 0.51 | ValF1: 0.34\n",
            "Epoch: 03 |  TrainLoss: 0.69 | TrainAcc: 0.51 ValLoss: 0.69 | ValAcc: 0.62 | ValF1: 0.57\n",
            "Epoch: 04 |  TrainLoss: 0.69 | TrainAcc: 0.56 ValLoss: 0.69 | ValAcc: 0.51 | ValF1: 0.34\n",
            "Epoch: 05 |  TrainLoss: 0.69 | TrainAcc: 0.53 ValLoss: 0.70 | ValAcc: 0.49 | ValF1: 0.33\n",
            "Epoch: 06 |  TrainLoss: 0.71 | TrainAcc: 0.50 ValLoss: 0.76 | ValAcc: 0.49 | ValF1: 0.33\n",
            "Epoch: 07 |  TrainLoss: 0.69 | TrainAcc: 0.52 ValLoss: 0.72 | ValAcc: 0.51 | ValF1: 0.34\n",
            "Epoch: 08 |  TrainLoss: 0.67 | TrainAcc: 0.57 ValLoss: 0.76 | ValAcc: 0.51 | ValF1: 0.34\n",
            "Epoch: 09 |  TrainLoss: 0.66 | TrainAcc: 0.59 ValLoss: 0.65 | ValAcc: 0.51 | ValF1: 0.34\n",
            "Epoch: 10 |  TrainLoss: 0.59 | TrainAcc: 0.72 ValLoss: 0.85 | ValAcc: 0.49 | ValF1: 0.34\n",
            "Epoch: 11 |  TrainLoss: 0.61 | TrainAcc: 0.63 ValLoss: 0.49 | ValAcc: 0.92 | ValF1: 0.92\n",
            "Epoch: 12 |  TrainLoss: 0.49 | TrainAcc: 0.82 ValLoss: 0.50 | ValAcc: 0.70 | ValF1: 0.68\n",
            "Epoch: 13 |  TrainLoss: 0.43 | TrainAcc: 0.85 ValLoss: 0.77 | ValAcc: 0.58 | ValF1: 0.50\n",
            "Epoch: 14 |  TrainLoss: 0.50 | TrainAcc: 0.72 ValLoss: 0.35 | ValAcc: 0.93 | ValF1: 0.93\n",
            "Epoch: 15 |  TrainLoss: 0.35 | TrainAcc: 0.88 ValLoss: 0.47 | ValAcc: 0.72 | ValF1: 0.69\n",
            "Epoch: 16 |  TrainLoss: 0.37 | TrainAcc: 0.84 ValLoss: 0.32 | ValAcc: 0.88 | ValF1: 0.88\n",
            "Epoch: 17 |  TrainLoss: 0.30 | TrainAcc: 0.89 ValLoss: 0.38 | ValAcc: 0.79 | ValF1: 0.78\n",
            "Epoch: 18 |  TrainLoss: 0.31 | TrainAcc: 0.88 ValLoss: 0.86 | ValAcc: 0.61 | ValF1: 0.55\n",
            "Epoch: 19 |  TrainLoss: 0.36 | TrainAcc: 0.84 ValLoss: 0.39 | ValAcc: 0.80 | ValF1: 0.79\n",
            "Epoch: 20 |  TrainLoss: 0.29 | TrainAcc: 0.89 ValLoss: 0.26 | ValAcc: 0.94 | ValF1: 0.94\n",
            "Epoch: 21 |  TrainLoss: 0.25 | TrainAcc: 0.92 ValLoss: 0.27 | ValAcc: 0.90 | ValF1: 0.90\n",
            "Epoch: 22 |  TrainLoss: 0.27 | TrainAcc: 0.89 ValLoss: 0.25 | ValAcc: 0.92 | ValF1: 0.92\n",
            "Epoch: 23 |  TrainLoss: 0.24 | TrainAcc: 0.92 ValLoss: 0.23 | ValAcc: 0.94 | ValF1: 0.94\n",
            "Epoch: 24 |  TrainLoss: 0.26 | TrainAcc: 0.90 ValLoss: 0.32 | ValAcc: 0.85 | ValF1: 0.85\n",
            "Epoch: 25 |  TrainLoss: 0.23 | TrainAcc: 0.92 ValLoss: 0.40 | ValAcc: 0.78 | ValF1: 0.77\n",
            "Epoch: 26 |  TrainLoss: 0.34 | TrainAcc: 0.84 ValLoss: 0.24 | ValAcc: 0.92 | ValF1: 0.92\n",
            "Epoch: 27 |  TrainLoss: 0.21 | TrainAcc: 0.93 ValLoss: 0.24 | ValAcc: 0.92 | ValF1: 0.92\n",
            "Epoch: 28 |  TrainLoss: 0.22 | TrainAcc: 0.92 ValLoss: 0.30 | ValAcc: 0.88 | ValF1: 0.88\n",
            "Epoch: 29 |  TrainLoss: 0.24 | TrainAcc: 0.91 ValLoss: 0.34 | ValAcc: 0.84 | ValF1: 0.83\n",
            "Epoch: 30 |  TrainLoss: 0.26 | TrainAcc: 0.90 ValLoss: 0.24 | ValAcc: 0.92 | ValF1: 0.92\n",
            "Epoch: 31 |  TrainLoss: 0.20 | TrainAcc: 0.94 ValLoss: 0.20 | ValAcc: 0.95 | ValF1: 0.95\n",
            "Epoch: 32 |  TrainLoss: 0.19 | TrainAcc: 0.93 ValLoss: 0.27 | ValAcc: 0.89 | ValF1: 0.89\n",
            "Epoch: 33 |  TrainLoss: 0.21 | TrainAcc: 0.93 ValLoss: 0.35 | ValAcc: 0.82 | ValF1: 0.82\n",
            "Epoch: 34 |  TrainLoss: 0.32 | TrainAcc: 0.86 ValLoss: 0.19 | ValAcc: 0.94 | ValF1: 0.94\n",
            "Epoch: 35 |  TrainLoss: 0.20 | TrainAcc: 0.93 ValLoss: 0.19 | ValAcc: 0.94 | ValF1: 0.94\n",
            "Epoch: 36 |  TrainLoss: 0.19 | TrainAcc: 0.94 ValLoss: 0.21 | ValAcc: 0.93 | ValF1: 0.93\n",
            "Epoch: 37 |  TrainLoss: 0.19 | TrainAcc: 0.93 ValLoss: 0.27 | ValAcc: 0.89 | ValF1: 0.89\n",
            "Epoch: 38 |  TrainLoss: 0.19 | TrainAcc: 0.94 ValLoss: 0.19 | ValAcc: 0.94 | ValF1: 0.94\n",
            "Epoch: 39 |  TrainLoss: 0.18 | TrainAcc: 0.94 ValLoss: 0.37 | ValAcc: 0.82 | ValF1: 0.82\n",
            "Epoch: 40 |  TrainLoss: 0.22 | TrainAcc: 0.91 ValLoss: 0.32 | ValAcc: 0.86 | ValF1: 0.85\n",
            "Epoch: 41 |  TrainLoss: 0.22 | TrainAcc: 0.91 ValLoss: 0.29 | ValAcc: 0.88 | ValF1: 0.88\n",
            "Validation performance did not improve by at least 0.001 for 10 epochs. Stopping training...\n",
            "Best validation accuracy: 0.95\n",
            "========================================================================\n",
            "\n",
            "Test Accuracy: 0.94, Test F1 Score: 0.94, Model: gcn\n",
            "Run 5/5\n",
            "Epoch: 01 |  TrainLoss: 0.74 | TrainAcc: 0.50 ValLoss: 0.69 | ValAcc: 0.49 | ValF1: 0.33\n",
            "Epoch: 02 |  TrainLoss: 0.70 | TrainAcc: 0.50 ValLoss: 0.69 | ValAcc: 0.51 | ValF1: 0.34\n",
            "Epoch: 03 |  TrainLoss: 0.70 | TrainAcc: 0.51 ValLoss: 1.30 | ValAcc: 0.51 | ValF1: 0.34\n",
            "Epoch: 04 |  TrainLoss: 0.80 | TrainAcc: 0.52 ValLoss: 0.67 | ValAcc: 0.88 | ValF1: 0.87\n",
            "Epoch: 05 |  TrainLoss: 0.67 | TrainAcc: 0.61 ValLoss: 0.65 | ValAcc: 0.69 | ValF1: 0.66\n",
            "Epoch: 06 |  TrainLoss: 0.64 | TrainAcc: 0.68 ValLoss: 1.13 | ValAcc: 0.51 | ValF1: 0.34\n",
            "Epoch: 07 |  TrainLoss: 0.73 | TrainAcc: 0.56 ValLoss: 0.65 | ValAcc: 0.51 | ValF1: 0.34\n",
            "Epoch: 08 |  TrainLoss: 0.59 | TrainAcc: 0.68 ValLoss: 0.55 | ValAcc: 0.72 | ValF1: 0.70\n",
            "Epoch: 09 |  TrainLoss: 0.57 | TrainAcc: 0.68 ValLoss: 0.62 | ValAcc: 0.59 | ValF1: 0.51\n",
            "Epoch: 10 |  TrainLoss: 0.52 | TrainAcc: 0.75 ValLoss: 0.44 | ValAcc: 0.90 | ValF1: 0.90\n",
            "Epoch: 11 |  TrainLoss: 0.42 | TrainAcc: 0.89 ValLoss: 0.50 | ValAcc: 0.67 | ValF1: 0.62\n",
            "Epoch: 12 |  TrainLoss: 0.41 | TrainAcc: 0.83 ValLoss: 0.49 | ValAcc: 0.68 | ValF1: 0.64\n",
            "Epoch: 13 |  TrainLoss: 0.40 | TrainAcc: 0.80 ValLoss: 0.32 | ValAcc: 0.92 | ValF1: 0.92\n",
            "Epoch: 14 |  TrainLoss: 0.41 | TrainAcc: 0.81 ValLoss: 0.40 | ValAcc: 0.80 | ValF1: 0.79\n",
            "Epoch: 15 |  TrainLoss: 0.35 | TrainAcc: 0.84 ValLoss: 0.32 | ValAcc: 0.90 | ValF1: 0.90\n",
            "Epoch: 16 |  TrainLoss: 0.31 | TrainAcc: 0.89 ValLoss: 0.32 | ValAcc: 0.86 | ValF1: 0.86\n",
            "Epoch: 17 |  TrainLoss: 0.28 | TrainAcc: 0.90 ValLoss: 0.47 | ValAcc: 0.73 | ValF1: 0.71\n",
            "Epoch: 18 |  TrainLoss: 0.35 | TrainAcc: 0.85 ValLoss: 0.28 | ValAcc: 0.91 | ValF1: 0.91\n",
            "Epoch: 19 |  TrainLoss: 0.28 | TrainAcc: 0.90 ValLoss: 0.63 | ValAcc: 0.69 | ValF1: 0.66\n",
            "Epoch: 20 |  TrainLoss: 0.31 | TrainAcc: 0.87 ValLoss: 0.42 | ValAcc: 0.77 | ValF1: 0.76\n",
            "Epoch: 21 |  TrainLoss: 0.32 | TrainAcc: 0.86 ValLoss: 0.26 | ValAcc: 0.90 | ValF1: 0.90\n",
            "Epoch: 22 |  TrainLoss: 0.28 | TrainAcc: 0.89 ValLoss: 0.56 | ValAcc: 0.71 | ValF1: 0.69\n",
            "Epoch: 23 |  TrainLoss: 0.30 | TrainAcc: 0.88 ValLoss: 0.31 | ValAcc: 0.87 | ValF1: 0.87\n",
            "Validation performance did not improve by at least 0.001 for 10 epochs. Stopping training...\n",
            "Best validation accuracy: 0.92\n",
            "========================================================================\n",
            "\n",
            "Test Accuracy: 0.89, Test F1 Score: 0.89, Model: gcn\n",
            "Mean test accuracy over 5 runs: 0.926 +- 0.020\n",
            " Mean F1 Score over 5 runs: 0.926 +- 0.020\n",
            " No. of parameters: 96385\n"
          ]
        },
        {
          "output_type": "stream",
          "name": "stderr",
          "text": [
            "<ipython-input-14-5f5345b046eb>:72: FutureWarning: The frame.append method is deprecated and will be removed from pandas in a future version. Use pandas.concat instead.\n",
            "  results_df = results_df.append(result, ignore_index=True)\n"
          ]
        }
      ],
      "source": [
        "import numpy as np\n",
        "\n",
        "results_file = 'results.csv'\n",
        "try:\n",
        "    results_df = pd.read_csv(results_file)\n",
        "except FileNotFoundError:\n",
        "    results_df = pd.DataFrame(columns=[\"Model\", \"Test_Accuracy\", \"Acc_std\", \"Test_F1_Score\", \"F1_std\", \"Trainable_Parameters\"])\n",
        "\n",
        "def main_experiment():\n",
        "    best_acc = 0\n",
        "    best_model = None\n",
        "    train_loss_history = []\n",
        "    train_acc_history = []\n",
        "    val_loss_history = []\n",
        "    val_acc_history = []\n",
        "    counter = 0\n",
        "\n",
        "    for epoch in range(1, 1 + args.epochs):\n",
        "        train_loss, train_acc = train()\n",
        "        val_loss, val_acc, val_f1 = compute_test(val_loader)\n",
        "        print(f'Epoch: {epoch:02d} |  TrainLoss: {train_loss:.2f} | TrainAcc: {train_acc:.2f} '\n",
        "              f'ValLoss: {val_loss:.2f} | ValAcc: {val_acc:.2f} | ValF1: {val_f1:.2f}')\n",
        "        \n",
        "        train_loss_history.append(train_loss)\n",
        "        train_acc_history.append(train_acc)\n",
        "        val_loss_history.append(val_loss)\n",
        "        val_acc_history.append(val_acc)\n",
        "\n",
        "        current_acc = val_acc\n",
        "\n",
        "        if current_acc > best_acc + args.min_delta:\n",
        "            best_acc = current_acc\n",
        "            best_model = copy.deepcopy(model.state_dict())\n",
        "            counter = 0\n",
        "        else:\n",
        "            counter += 1\n",
        "\n",
        "        if counter >= args.patience:\n",
        "            print(f\"Validation performance did not improve by at least {args.min_delta:.3f} for {args.patience} epochs. Stopping training...\")\n",
        "            print(f\"Best validation accuracy: {best_acc:.2f}\")\n",
        "            break\n",
        "    print(\"========================================================================\")\n",
        "    print()\n",
        "    model.load_state_dict(best_model)\n",
        "    _, acc_test, f1_test = compute_test(test_loader)\n",
        "    print(f'Test Accuracy: {acc_test:.2f}, Test F1 Score: {f1_test:.2f}, Model: {args.model}')\n",
        "    #print(f'Number of trainable parameters: {count_parameters(model)}')\n",
        "\n",
        "    #new_result = {\"Model\": args.model, \"Test_Accuracy\": acc_test, \"Test_F1_Score\": f1_test, \"Trainable_Parameters\": count_parameters(model)}\n",
        "    #results_df = results_df.append(new_result, ignore_index=True)\n",
        "    #results_df.to_csv(results_file, index=False)\n",
        "\n",
        "    return acc_test, f1_test, train_loss_history, train_acc_history, val_loss_history, val_acc_history\n",
        "\n",
        "num_runs = 5\n",
        "test_accuracies = []\n",
        "f1_scores = []\n",
        "for run in range(num_runs):\n",
        "    print(f\"Run {run + 1}/{num_runs}\")\n",
        "    model.reset_parameters()\n",
        "    test_acc, f1_sco, _, _, _, _ = main_experiment()\n",
        "    test_accuracies.append(test_acc)\n",
        "    f1_scores.append(f1_sco)\n",
        "\n",
        "mean_acc = np.mean(test_accuracies)\n",
        "std_acc = np.std(test_accuracies)\n",
        "f1_score_mean = np.mean(f1_scores)\n",
        "std_f1 = np.std(f1_scores)\n",
        "\n",
        "print(f\"Mean test accuracy over {num_runs} runs: {mean_acc:.3f} +- {std_acc:.3f}\\n Mean F1 Score over {num_runs} runs: {f1_score_mean:.3f} +- {std_f1:.3f}\\n No. of parameters: {count_parameters(model)}\")\n",
        "result = {\"Model\": args.model, \"Test_Accuracy\": mean_acc, \"Acc_std\":std_acc, \"Test_F1_Score\": f1_score_mean, \"F1_std\": std_f1, \"Trainable_Parameters\": count_parameters(model)}\n",
        "results_df = results_df.append(result, ignore_index=True)\n",
        "results_df.to_csv(results_file, index=False)    "
      ]
    },
    {
      "cell_type": "code",
      "execution_count": null,
      "metadata": {
        "colab": {
          "base_uri": "https://localhost:8080/",
          "height": 830
        },
        "id": "bpPryn_l387b",
        "outputId": "de1d944e-0c76-4f50-fc47-c17c688088c3"
      },
      "outputs": [
        {
          "output_type": "stream",
          "name": "stdout",
          "text": [
            "Epoch: 01 |  TrainLoss: 0.36 | TrainAcc: 0.86 ValLoss: 0.31 | ValAcc: 0.93 | ValF1: 0.93\n",
            "Epoch: 02 |  TrainLoss: 0.31 | TrainAcc: 0.90 ValLoss: 0.40 | ValAcc: 0.77 | ValF1: 0.76\n",
            "Epoch: 03 |  TrainLoss: 0.32 | TrainAcc: 0.89 ValLoss: 0.30 | ValAcc: 0.92 | ValF1: 0.92\n",
            "Epoch: 04 |  TrainLoss: 0.30 | TrainAcc: 0.89 ValLoss: 0.27 | ValAcc: 0.93 | ValF1: 0.93\n",
            "Epoch: 05 |  TrainLoss: 0.28 | TrainAcc: 0.90 ValLoss: 0.58 | ValAcc: 0.69 | ValF1: 0.67\n",
            "Epoch: 06 |  TrainLoss: 0.30 | TrainAcc: 0.88 ValLoss: 0.25 | ValAcc: 0.94 | ValF1: 0.94\n",
            "Epoch: 07 |  TrainLoss: 0.26 | TrainAcc: 0.91 ValLoss: 0.28 | ValAcc: 0.90 | ValF1: 0.90\n",
            "Epoch: 08 |  TrainLoss: 0.25 | TrainAcc: 0.91 ValLoss: 0.41 | ValAcc: 0.78 | ValF1: 0.76\n",
            "Epoch: 09 |  TrainLoss: 0.27 | TrainAcc: 0.90 ValLoss: 0.41 | ValAcc: 0.78 | ValF1: 0.77\n",
            "Epoch: 10 |  TrainLoss: 0.28 | TrainAcc: 0.89 ValLoss: 0.23 | ValAcc: 0.95 | ValF1: 0.95\n",
            "Epoch: 11 |  TrainLoss: 0.26 | TrainAcc: 0.91 ValLoss: 0.73 | ValAcc: 0.58 | ValF1: 0.48\n",
            "Epoch: 12 |  TrainLoss: 0.34 | TrainAcc: 0.85 ValLoss: 0.41 | ValAcc: 0.77 | ValF1: 0.76\n",
            "Epoch: 13 |  TrainLoss: 0.26 | TrainAcc: 0.90 ValLoss: 0.23 | ValAcc: 0.95 | ValF1: 0.95\n",
            "Epoch: 14 |  TrainLoss: 0.22 | TrainAcc: 0.93 ValLoss: 0.22 | ValAcc: 0.95 | ValF1: 0.95\n",
            "Epoch: 15 |  TrainLoss: 0.23 | TrainAcc: 0.93 ValLoss: 0.23 | ValAcc: 0.93 | ValF1: 0.93\n",
            "Epoch: 16 |  TrainLoss: 0.22 | TrainAcc: 0.92 ValLoss: 0.21 | ValAcc: 0.95 | ValF1: 0.95\n",
            "Epoch: 17 |  TrainLoss: 0.21 | TrainAcc: 0.93 ValLoss: 0.21 | ValAcc: 0.95 | ValF1: 0.95\n",
            "Epoch: 18 |  TrainLoss: 0.22 | TrainAcc: 0.92 ValLoss: 0.21 | ValAcc: 0.95 | ValF1: 0.95\n",
            "Epoch: 19 |  TrainLoss: 0.21 | TrainAcc: 0.93 ValLoss: 0.21 | ValAcc: 0.95 | ValF1: 0.95\n",
            "Epoch: 20 |  TrainLoss: 0.25 | TrainAcc: 0.90 ValLoss: 0.26 | ValAcc: 0.90 | ValF1: 0.90\n",
            "Epoch: 21 |  TrainLoss: 0.25 | TrainAcc: 0.90 ValLoss: 0.22 | ValAcc: 0.93 | ValF1: 0.93\n",
            "Epoch: 22 |  TrainLoss: 0.21 | TrainAcc: 0.93 ValLoss: 0.26 | ValAcc: 0.90 | ValF1: 0.90\n",
            "Epoch: 23 |  TrainLoss: 0.24 | TrainAcc: 0.91 ValLoss: 0.24 | ValAcc: 0.92 | ValF1: 0.92\n",
            "Epoch: 24 |  TrainLoss: 0.20 | TrainAcc: 0.93 ValLoss: 0.52 | ValAcc: 0.73 | ValF1: 0.70\n",
            "Validation performance did not improve by at least 0.001 for 10 epochs. Stopping training...\n",
            "Best validation accuracy: 0.95\n",
            "========================================================================\n",
            "\n",
            "Test Accuracy: 0.93, Test F1 Score: 0.93, Model: gcn\n"
          ]
        },
        {
          "output_type": "display_data",
          "data": {
            "text/plain": [
              "<Figure size 1200x400 with 2 Axes>"
            ],
            "image/png": "[encoded data removed]"
          },
          "metadata": {}
        }
      ],
      "source": [
        "def plot_history(train_loss_history, train_acc_history, val_loss_history, val_acc_history):\n",
        "    epochs = len(train_loss_history)\n",
        "    fig, axs = plt.subplots(1, 2, figsize=(12, 4))\n",
        "\n",
        "    axs[0].plot(range(1, epochs+1), train_loss_history, label='Train Loss')\n",
        "    axs[0].plot(range(1, epochs+1), val_loss_history, label='Validation Loss')\n",
        "    axs[0].set_title('Loss')\n",
        "    axs[0].set_xlabel('Epoch')\n",
        "    axs[0].legend()\n",
        "\n",
        "    axs[1].plot(range(1, epochs+1), train_acc_history, label='Train Accuracy')\n",
        "    axs[1].plot(range(1, epochs+1), val_acc_history, label='Validation Accuracy')\n",
        "    axs[1].set_title('Accuracy')\n",
        "    axs[1].set_xlabel('Epoch')\n",
        "    axs[1].legend()\n",
        "\n",
        "    plt.show()\n",
        "\n",
        "# plotting the first run\n",
        "_, _, train_loss_history, train_acc_history, val_loss_history, val_acc_history = main_experiment()\n",
        "plot_history(train_loss_history, train_acc_history, val_loss_history, val_acc_history)"
      ]
    },
    {
      "cell_type": "code",
      "source": [],
      "metadata": {
        "id": "Lq7kvpdaFtgL"
      },
      "execution_count": null,
      "outputs": []
    }
  ],
  "metadata": {
    "accelerator": "GPU",
    "colab": {
      "provenance": [],
      "authorship_tag": "ABX9TyMrgQsYeNqNGArxudTuBa0a",
      "include_colab_link": true
    },
    "gpuClass": "standard",
    "kernelspec": {
      "display_name": "Python 3",
      "name": "python3"
    },
    "language_info": {
      "name": "python"
    }
  },
  "nbformat": 4,
  "nbformat_minor": 0
}